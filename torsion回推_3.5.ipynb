{
 "cells": [
  {
   "cell_type": "markdown",
   "metadata": {},
   "source": [
    "3.3更新 1.修改函數名稱2.刪除舊版函數3.新torsion"
   ]
  },
  {
   "cell_type": "markdown",
   "metadata": {},
   "source": [
    "3.4更新 1.新增分析部分2.修改函數名稱3.簡化代碼4.新增註解"
   ]
  },
  {
   "cell_type": "markdown",
   "metadata": {},
   "source": [
    "3.5更新 1.刪除舊torsion 2.新增函數 3.新增互動部分"
   ]
  },
  {
   "cell_type": "markdown",
   "metadata": {},
   "source": [
    "## 導入函式庫"
   ]
  },
  {
   "cell_type": "code",
   "execution_count": 1,
   "metadata": {},
   "outputs": [],
   "source": [
    "%matplotlib inline\n",
    "import numpy as np # 更快的運算\n",
    "import pandas as pd # 將資料轉乘DataFrame\n",
    "import matplotlib.pyplot as plt # 繪圖用\n",
    "from pyquaternion import Quaternion # 用於旋轉\n",
    "from ipywidgets import interact"
   ]
  },
  {
   "cell_type": "markdown",
   "metadata": {},
   "source": [
    "# PDB轉成Dataframe"
   ]
  },
  {
   "cell_type": "code",
   "execution_count": 2,
   "metadata": {},
   "outputs": [],
   "source": [
    "def pdb_to_df(pdb): \n",
    "    with open(pdb,'r',) as f: #開啟檔案\n",
    "        lines = []\n",
    "        for line in f.readlines() :\n",
    "            line = line.strip() #去除/n\n",
    "            line = line.split() #以空白分割\n",
    "            lines.append(line) \n",
    "    df = pd.DataFrame(lines,columns = list(\"abcdefghijk\"),dtype=np.float64) \n",
    "    # 轉成dataframe並用abcd代替上面columns，方便取出需要之編號\n",
    "    df = df.loc[:, (\"c\",\"e\",\"g\",\"h\",\"i\")]\n",
    "    df.columns = [\"element\",\"chain\", \"X\", \"Y\", \"Z\"]\n",
    "    #df.index = range(1,len(df)+1) #index改成1開始\n",
    "    mask = df[\"element\"].isin([\"C\",\"N\",\"CA\"]) #只抓取胺基酸主鍊N,CA,C\n",
    "    df = df[mask] \n",
    "    df[\"backbone_index\"] = df.index #保留原始骨架的index\n",
    "    return df "
   ]
  },
  {
   "cell_type": "markdown",
   "metadata": {},
   "source": [
    "# 向量長度\n",
    "向量(x, y, z)之長度為 $√(x^2+y^2+z^2)$"
   ]
  },
  {
   "cell_type": "markdown",
   "metadata": {},
   "source": [
    "用於對dataframe之運算"
   ]
  },
  {
   "cell_type": "code",
   "execution_count": 3,
   "metadata": {},
   "outputs": [],
   "source": [
    "def df_longth(v):\n",
    "    return np.linalg.norm(v,axis=1)"
   ]
  },
  {
   "cell_type": "markdown",
   "metadata": {},
   "source": [
    "用於小處之運算"
   ]
  },
  {
   "cell_type": "code",
   "execution_count": 4,
   "metadata": {},
   "outputs": [],
   "source": [
    "def longth(v):\n",
    "    return np.sqrt(np.sum(np.dot(v,v))) "
   ]
  },
  {
   "cell_type": "markdown",
   "metadata": {},
   "source": [
    "# 兩向量計算夾角"
   ]
  },
  {
   "cell_type": "markdown",
   "metadata": {},
   "source": [
    "二維矩陣用之dot"
   ]
  },
  {
   "cell_type": "code",
   "execution_count": 5,
   "metadata": {},
   "outputs": [],
   "source": [
    "def df_dot(v1, v2): \n",
    "    return np.sum(np.multiply(v1, v2), axis=1, dtype=np.float64)"
   ]
  },
  {
   "cell_type": "markdown",
   "metadata": {},
   "source": [
    "因為multply只支援同大小的array故把它變成三倍,m2.T是轉置矩陣"
   ]
  },
  {
   "cell_type": "code",
   "execution_count": 6,
   "metadata": {},
   "outputs": [],
   "source": [
    "def tothree(m):\n",
    "    m2 = np.array([m, m, m]) \n",
    "    return m2.T # .T表示該矩陣之轉置矩陣"
   ]
  },
  {
   "cell_type": "markdown",
   "metadata": {},
   "source": [
    "### 角度\n",
    "Cos = dot(v1, v2)/longth(v1)*longth(v2)\n",
    "但左右之cos值相同因此無法算出正負角度"
   ]
  },
  {
   "cell_type": "code",
   "execution_count": 7,
   "metadata": {},
   "outputs": [],
   "source": [
    "def angle(v1, v2, l1=\"check\", l2=\"check\"):\n",
    "    if l1 == \"check\" and l2 == \"check\": #若l1,l2沒有值再進行運算，提高速度\n",
    "        cos = df_dot(v1,v2)/(df_longth(v1)*df_longth(v2)) \n",
    "    else:\n",
    "        cos = df_dot(v1,v2)/(l1*l2) \n",
    "    return np.arccos(cos)"
   ]
  },
  {
   "cell_type": "markdown",
   "metadata": {},
   "source": [
    "### 向量\n",
    "後項XYZ-前項XYZ"
   ]
  },
  {
   "cell_type": "code",
   "execution_count": 8,
   "metadata": {},
   "outputs": [],
   "source": [
    "def df_vecter(df):\n",
    "    df[[\"VX\", \"VY\", \"VZ\"]] = df.loc[:, (\"X\", \"Y\", \"Z\")].diff()"
   ]
  },
  {
   "cell_type": "markdown",
   "metadata": {},
   "source": [
    "### 鍵長 \n",
    "$√(Vx^2+Vy^2+Vz^2)$"
   ]
  },
  {
   "cell_type": "code",
   "execution_count": 9,
   "metadata": {},
   "outputs": [],
   "source": [
    "def df_bond_longth(df):\n",
    "    df[\"bond_longth\"] = df_longth(df.loc[:, (\"VX\", \"VY\", \"VZ\")].values)"
   ]
  },
  {
   "cell_type": "markdown",
   "metadata": {},
   "source": [
    "### 鍵角\n",
    "$(V1·V2)/(l1*l2)$"
   ]
  },
  {
   "cell_type": "code",
   "execution_count": 10,
   "metadata": {},
   "outputs": [],
   "source": [
    "def df_bond_angle(df):\n",
    "    df[\"bond_angle\"] = np.NAN\n",
    "    vxyz = (\"VX\", \"VY\", \"VZ\")\n",
    "    v1 = df.loc[1:len(df)-1, vxyz].values #1-df-1\n",
    "    v2 = df.loc[2:len(df), vxyz].values\n",
    "    l1 = df.loc[1:len(df)-1, \"bond_longth\"].values\n",
    "    l2 = df.loc[2:len(df), \"bond_longth\"].values\n",
    "    df.loc[2:len(df), \"bond_angle\"] = angle(-v1, v2, l1, l2)"
   ]
  },
  {
   "cell_type": "markdown",
   "metadata": {},
   "source": [
    "### torsion\n",
    "假設有四點a-b-c-d, torsion為Vab和Vdc之夾角"
   ]
  },
  {
   "cell_type": "code",
   "execution_count": 11,
   "metadata": {},
   "outputs": [],
   "source": [
    "def df_torsion(df):\n",
    "    vxyz = (\"VX\", \"VY\", \"VZ\")\n",
    "    vab = -df.loc[2:(len(df)-2), vxyz].values\n",
    "    vdc = df.loc[4:len(df), vxyz].values\n",
    "    vbc = -df.loc[3:(len(df)-1), vxyz].values\n",
    "    lvbc = -df.loc[3:(len(df)-1), \"bond_longth\"].values\n",
    "    vqb = vab - tothree(df_dot(vab,vbc)/(lvbc**2))*vbc\n",
    "    vpc = vdc - tothree(df_dot(vdc,vbc)/(lvbc**2))*vbc\n",
    "    lvqb = np.linalg.norm(vqb,axis=1)\n",
    "    lvpc = np.linalg.norm(vpc,axis=1)\n",
    "    torsion = angle(vqb, vpc)\n",
    "    #np.arccos(df_dot(vqb, vpc)/np.multiply(lvqb, lvpc))\n",
    "    df[\"torsion\"] = np.NaN\n",
    "    df.loc[1:len(df)-3, \"torsion\"] = torsion"
   ]
  },
  {
   "cell_type": "code",
   "execution_count": 12,
   "metadata": {},
   "outputs": [],
   "source": [
    "def torsion_new(array):\n",
    "    q1,q2,q3=array[0:3] #指派1-3行為q1q2q3\n",
    "    q1Xq2 = np.cross(q1, q2) #第一個平面之法向量\n",
    "    q2Xq3 = np.cross(q2, q3) #第二個平面之法向量\n",
    "    n1 = q1Xq2/longth(q1Xq2) #q1Xq2單位向量\n",
    "    n2 = q2Xq3/longth(q1Xq2) #q2Xq3單位向量\n",
    "    u1 = n2 #第二個平面之單位法向量\n",
    "    u3 = q2/longth(q2) #q2單位向量\n",
    "    u2 = np.cross(u1, u3) \n",
    "    cos_theta = np.dot(n1, u1)\n",
    "    sin_theta = np.dot(n1, u2)\n",
    "    theta = -np.arctan2(sin_theta,cos_theta) \n",
    "    return theta"
   ]
  },
  {
   "cell_type": "markdown",
   "metadata": {},
   "source": [
    "# 分chain並進行運算"
   ]
  },
  {
   "cell_type": "markdown",
   "metadata": {},
   "source": [
    "輸入原始dataframe -> 分成數個chain -> reindex後分析各項數據 -> 把chain接回去並return"
   ]
  },
  {
   "cell_type": "code",
   "execution_count": 13,
   "metadata": {},
   "outputs": [],
   "source": [
    "def analyze(df):    \n",
    "    df_dir = {} #創建一個字典存放a，b，c chain\n",
    "    \n",
    "    for i in chain_index:\n",
    "        df_dir[i] = chain_group.get_group(i) # {\"A\"= chainA之df}\n",
    "        df_dir[i].index = range(1, len(df_dir[i])+1) # 分別對每個chain進行reindex 方便後續處理\n",
    "        operation(df_dir[i])\n",
    "        \n",
    "    return df_dir"
   ]
  },
  {
   "cell_type": "markdown",
   "metadata": {},
   "source": [
    "產生向量、鍵長、鍵角、兩面角"
   ]
  },
  {
   "cell_type": "code",
   "execution_count": 14,
   "metadata": {},
   "outputs": [],
   "source": [
    "def operation(df):\n",
    "    df_vecter(df)\n",
    "    df_bond_longth(df)\n",
    "    df_bond_angle(df)\n",
    "    vxyz = (\"VX\", \"VY\", \"VZ\")\n",
    "    for i in range(2,len(df)-1):\n",
    "        array = df.loc[i:i+2, vxyz].values\n",
    "        df.loc[i+2:i+2,\"torsion\"] = torsion_new(array)"
   ]
  },
  {
   "cell_type": "markdown",
   "metadata": {},
   "source": [
    "# 主程式\n",
    "1.pdb -> df\n",
    "2.分chain\n",
    "3.進行運算\n",
    "4.合併"
   ]
  },
  {
   "cell_type": "code",
   "execution_count": 15,
   "metadata": {
    "scrolled": false
   },
   "outputs": [
    {
     "name": "stderr",
     "output_type": "stream",
     "text": [
      "C:\\Users\\z9875\\Anaconda3\\lib\\site-packages\\pandas\\core\\frame.py:3140: SettingWithCopyWarning: \n",
      "A value is trying to be set on a copy of a slice from a DataFrame.\n",
      "Try using .loc[row_indexer,col_indexer] = value instead\n",
      "\n",
      "See the caveats in the documentation: http://pandas.pydata.org/pandas-docs/stable/indexing.html#indexing-view-versus-copy\n",
      "  self[k1] = value[k2]\n",
      "C:\\Users\\z9875\\Anaconda3\\lib\\site-packages\\ipykernel_launcher.py:2: SettingWithCopyWarning: \n",
      "A value is trying to be set on a copy of a slice from a DataFrame.\n",
      "Try using .loc[row_indexer,col_indexer] = value instead\n",
      "\n",
      "See the caveats in the documentation: http://pandas.pydata.org/pandas-docs/stable/indexing.html#indexing-view-versus-copy\n",
      "  \n",
      "C:\\Users\\z9875\\Anaconda3\\lib\\site-packages\\ipykernel_launcher.py:2: FutureWarning: elementwise comparison failed; returning scalar instead, but in the future will perform elementwise comparison\n",
      "  \n",
      "C:\\Users\\z9875\\Anaconda3\\lib\\site-packages\\pandas\\core\\indexing.py:543: SettingWithCopyWarning: \n",
      "A value is trying to be set on a copy of a slice from a DataFrame.\n",
      "Try using .loc[row_indexer,col_indexer] = value instead\n",
      "\n",
      "See the caveats in the documentation: http://pandas.pydata.org/pandas-docs/stable/indexing.html#indexing-view-versus-copy\n",
      "  self.obj[item] = s\n",
      "C:\\Users\\z9875\\Anaconda3\\lib\\site-packages\\pandas\\core\\indexing.py:362: SettingWithCopyWarning: \n",
      "A value is trying to be set on a copy of a slice from a DataFrame.\n",
      "Try using .loc[row_indexer,col_indexer] = value instead\n",
      "\n",
      "See the caveats in the documentation: http://pandas.pydata.org/pandas-docs/stable/indexing.html#indexing-view-versus-copy\n",
      "  self.obj[key] = _infer_fill_value(value)\n"
     ]
    }
   ],
   "source": [
    "pdb = r'C:\\Users\\z9875\\code\\skp.pdb'\n",
    "df = pdb_to_df(pdb)\n",
    "\n",
    "chain_group = df.groupby(\"chain\") #依照chain分成數個groupby\n",
    "chain_index = chain_group.size().index #依照chain分成數個groupby\n",
    "\n",
    "df_dir = analyze(df)\n",
    "final_df = pd.concat(df_dir)"
   ]
  },
  {
   "cell_type": "code",
   "execution_count": 16,
   "metadata": {
    "scrolled": true
   },
   "outputs": [
    {
     "data": {
      "text/html": [
       "<div>\n",
       "<style scoped>\n",
       "    .dataframe tbody tr th:only-of-type {\n",
       "        vertical-align: middle;\n",
       "    }\n",
       "\n",
       "    .dataframe tbody tr th {\n",
       "        vertical-align: top;\n",
       "    }\n",
       "\n",
       "    .dataframe thead th {\n",
       "        text-align: right;\n",
       "    }\n",
       "</style>\n",
       "<table border=\"1\" class=\"dataframe\">\n",
       "  <thead>\n",
       "    <tr style=\"text-align: right;\">\n",
       "      <th></th>\n",
       "      <th></th>\n",
       "      <th>element</th>\n",
       "      <th>chain</th>\n",
       "      <th>X</th>\n",
       "      <th>Y</th>\n",
       "      <th>Z</th>\n",
       "      <th>backbone_index</th>\n",
       "      <th>VX</th>\n",
       "      <th>VY</th>\n",
       "      <th>VZ</th>\n",
       "      <th>bond_longth</th>\n",
       "      <th>bond_angle</th>\n",
       "      <th>torsion</th>\n",
       "    </tr>\n",
       "  </thead>\n",
       "  <tbody>\n",
       "    <tr>\n",
       "      <th rowspan=\"5\" valign=\"top\">A</th>\n",
       "      <th>1</th>\n",
       "      <td>N</td>\n",
       "      <td>A</td>\n",
       "      <td>35.811</td>\n",
       "      <td>16.487</td>\n",
       "      <td>-8.781</td>\n",
       "      <td>0</td>\n",
       "      <td>NaN</td>\n",
       "      <td>NaN</td>\n",
       "      <td>NaN</td>\n",
       "      <td>NaN</td>\n",
       "      <td>NaN</td>\n",
       "      <td>NaN</td>\n",
       "    </tr>\n",
       "    <tr>\n",
       "      <th>2</th>\n",
       "      <td>CA</td>\n",
       "      <td>A</td>\n",
       "      <td>35.511</td>\n",
       "      <td>16.768</td>\n",
       "      <td>-7.341</td>\n",
       "      <td>1</td>\n",
       "      <td>-0.300</td>\n",
       "      <td>0.281</td>\n",
       "      <td>1.440</td>\n",
       "      <td>1.497518</td>\n",
       "      <td>NaN</td>\n",
       "      <td>NaN</td>\n",
       "    </tr>\n",
       "    <tr>\n",
       "      <th>3</th>\n",
       "      <td>C</td>\n",
       "      <td>A</td>\n",
       "      <td>36.565</td>\n",
       "      <td>16.254</td>\n",
       "      <td>-6.358</td>\n",
       "      <td>2</td>\n",
       "      <td>1.054</td>\n",
       "      <td>-0.514</td>\n",
       "      <td>0.983</td>\n",
       "      <td>1.530164</td>\n",
       "      <td>2.000627</td>\n",
       "      <td>NaN</td>\n",
       "    </tr>\n",
       "    <tr>\n",
       "      <th>4</th>\n",
       "      <td>N</td>\n",
       "      <td>A</td>\n",
       "      <td>36.510</td>\n",
       "      <td>16.731</td>\n",
       "      <td>-5.124</td>\n",
       "      <td>5</td>\n",
       "      <td>-0.055</td>\n",
       "      <td>0.477</td>\n",
       "      <td>1.234</td>\n",
       "      <td>1.324126</td>\n",
       "      <td>2.036520</td>\n",
       "      <td>-2.881597</td>\n",
       "    </tr>\n",
       "    <tr>\n",
       "      <th>5</th>\n",
       "      <td>CA</td>\n",
       "      <td>A</td>\n",
       "      <td>37.437</td>\n",
       "      <td>16.287</td>\n",
       "      <td>-4.089</td>\n",
       "      <td>6</td>\n",
       "      <td>0.927</td>\n",
       "      <td>-0.444</td>\n",
       "      <td>1.035</td>\n",
       "      <td>1.458660</td>\n",
       "      <td>2.123758</td>\n",
       "      <td>-3.110461</td>\n",
       "    </tr>\n",
       "  </tbody>\n",
       "</table>\n",
       "</div>"
      ],
      "text/plain": [
       "    element chain       X       Y      Z  backbone_index     VX     VY     VZ  \\\n",
       "A 1       N     A  35.811  16.487 -8.781               0    NaN    NaN    NaN   \n",
       "  2      CA     A  35.511  16.768 -7.341               1 -0.300  0.281  1.440   \n",
       "  3       C     A  36.565  16.254 -6.358               2  1.054 -0.514  0.983   \n",
       "  4       N     A  36.510  16.731 -5.124               5 -0.055  0.477  1.234   \n",
       "  5      CA     A  37.437  16.287 -4.089               6  0.927 -0.444  1.035   \n",
       "\n",
       "     bond_longth  bond_angle   torsion  \n",
       "A 1          NaN         NaN       NaN  \n",
       "  2     1.497518         NaN       NaN  \n",
       "  3     1.530164    2.000627       NaN  \n",
       "  4     1.324126    2.036520 -2.881597  \n",
       "  5     1.458660    2.123758 -3.110461  "
      ]
     },
     "execution_count": 16,
     "metadata": {},
     "output_type": "execute_result"
    }
   ],
   "source": [
    "final_df.head()"
   ]
  },
  {
   "cell_type": "markdown",
   "metadata": {},
   "source": [
    "# 回推主鍊結構 \n",
    "假設主練結構為 a-b-c-d "
   ]
  },
  {
   "cell_type": "code",
   "execution_count": 17,
   "metadata": {},
   "outputs": [],
   "source": [
    "def pushback(df):#更改過\n",
    "    df[\"AnsX\"], df[\"AnsY\"], df[\"AnsZ\"] = np.NaN, np.NaN, np.NaN #將答案三欄先設為空值\n",
    "    df.loc[1:3, (\"AnsX\", \"AnsY\", \"AnsZ\")] = df.loc[1:3, (\"X\", \"Y\", \"Z\")].values \n",
    "    for i in range(4, len(df)+1):\n",
    "        vba, vcb =  df.loc[i-2:i-1, (\"VX\", \"VY\", \"VZ\")].values #向量 vba, vcb\n",
    "        axis1 = np.cross(-vba, vcb) # 第一個旋轉軸是 vab和Vcb的法向量\n",
    "        anglebca = df.loc[i-1, \"bond_angle\"] # 角bca\n",
    "        v_tmp = Quaternion(axis=axis1, angle=anglebca).rotate(-vcb) #向量Vbc以axis1為軸旋轉angle\n",
    "        angle2 = df.loc[i, \"torsion\"]\n",
    "        v_tmp2 = Quaternion(axis=vcb, angle=-angle2).rotate(v_tmp) # V_tmp以vcb為軸旋轉angle2\n",
    "        vdc = v_tmp2 * (df.loc[i, \"bond_longth\"]/df.loc[i-1, \"bond_longth\"]) # v_tmp2乘以 vbc長/vcd長\n",
    "        df.loc[i:i, (\"AnsX\", \"AnsY\", \"AnsZ\")] =  df.loc[i-1:i-1, (\"X\", \"Y\", \"Z\")].values + vdc\n",
    "    #df[\"error\"] = np.sqrt(np.sum((df.loc[:, (\"X\",\"Y\",\"Z\")].values - df.loc[:, (\"AnsX\",\"AnsY\",\"AnsZ\")].values)**2, axis=1))\n",
    "    df[\"error\"] = df_longth(df.loc[:, (\"X\",\"Y\",\"Z\")].values - df.loc[:, (\"AnsX\",\"AnsY\",\"AnsZ\")].values)\n",
    "    return df"
   ]
  },
  {
   "cell_type": "code",
   "execution_count": 18,
   "metadata": {},
   "outputs": [
    {
     "data": {
      "text/html": [
       "<div>\n",
       "<style scoped>\n",
       "    .dataframe tbody tr th:only-of-type {\n",
       "        vertical-align: middle;\n",
       "    }\n",
       "\n",
       "    .dataframe tbody tr th {\n",
       "        vertical-align: top;\n",
       "    }\n",
       "\n",
       "    .dataframe thead th {\n",
       "        text-align: right;\n",
       "    }\n",
       "</style>\n",
       "<table border=\"1\" class=\"dataframe\">\n",
       "  <thead>\n",
       "    <tr style=\"text-align: right;\">\n",
       "      <th></th>\n",
       "      <th></th>\n",
       "      <th>element</th>\n",
       "      <th>chain</th>\n",
       "      <th>X</th>\n",
       "      <th>Y</th>\n",
       "      <th>Z</th>\n",
       "      <th>backbone_index</th>\n",
       "      <th>VX</th>\n",
       "      <th>VY</th>\n",
       "      <th>VZ</th>\n",
       "      <th>bond_longth</th>\n",
       "      <th>bond_angle</th>\n",
       "      <th>torsion</th>\n",
       "    </tr>\n",
       "  </thead>\n",
       "  <tbody>\n",
       "    <tr>\n",
       "      <th rowspan=\"5\" valign=\"top\">A</th>\n",
       "      <th>1</th>\n",
       "      <td>N</td>\n",
       "      <td>A</td>\n",
       "      <td>35.811</td>\n",
       "      <td>16.487</td>\n",
       "      <td>-8.781</td>\n",
       "      <td>0</td>\n",
       "      <td>NaN</td>\n",
       "      <td>NaN</td>\n",
       "      <td>NaN</td>\n",
       "      <td>NaN</td>\n",
       "      <td>NaN</td>\n",
       "      <td>NaN</td>\n",
       "    </tr>\n",
       "    <tr>\n",
       "      <th>2</th>\n",
       "      <td>CA</td>\n",
       "      <td>A</td>\n",
       "      <td>35.511</td>\n",
       "      <td>16.768</td>\n",
       "      <td>-7.341</td>\n",
       "      <td>1</td>\n",
       "      <td>-0.300</td>\n",
       "      <td>0.281</td>\n",
       "      <td>1.440</td>\n",
       "      <td>1.497518</td>\n",
       "      <td>NaN</td>\n",
       "      <td>NaN</td>\n",
       "    </tr>\n",
       "    <tr>\n",
       "      <th>3</th>\n",
       "      <td>C</td>\n",
       "      <td>A</td>\n",
       "      <td>36.565</td>\n",
       "      <td>16.254</td>\n",
       "      <td>-6.358</td>\n",
       "      <td>2</td>\n",
       "      <td>1.054</td>\n",
       "      <td>-0.514</td>\n",
       "      <td>0.983</td>\n",
       "      <td>1.530164</td>\n",
       "      <td>2.000627</td>\n",
       "      <td>NaN</td>\n",
       "    </tr>\n",
       "    <tr>\n",
       "      <th>4</th>\n",
       "      <td>N</td>\n",
       "      <td>A</td>\n",
       "      <td>36.510</td>\n",
       "      <td>16.731</td>\n",
       "      <td>-5.124</td>\n",
       "      <td>5</td>\n",
       "      <td>-0.055</td>\n",
       "      <td>0.477</td>\n",
       "      <td>1.234</td>\n",
       "      <td>1.324126</td>\n",
       "      <td>2.036520</td>\n",
       "      <td>-2.881597</td>\n",
       "    </tr>\n",
       "    <tr>\n",
       "      <th>5</th>\n",
       "      <td>CA</td>\n",
       "      <td>A</td>\n",
       "      <td>37.437</td>\n",
       "      <td>16.287</td>\n",
       "      <td>-4.089</td>\n",
       "      <td>6</td>\n",
       "      <td>0.927</td>\n",
       "      <td>-0.444</td>\n",
       "      <td>1.035</td>\n",
       "      <td>1.458660</td>\n",
       "      <td>2.123758</td>\n",
       "      <td>-3.110461</td>\n",
       "    </tr>\n",
       "  </tbody>\n",
       "</table>\n",
       "</div>"
      ],
      "text/plain": [
       "    element chain       X       Y      Z  backbone_index     VX     VY     VZ  \\\n",
       "A 1       N     A  35.811  16.487 -8.781               0    NaN    NaN    NaN   \n",
       "  2      CA     A  35.511  16.768 -7.341               1 -0.300  0.281  1.440   \n",
       "  3       C     A  36.565  16.254 -6.358               2  1.054 -0.514  0.983   \n",
       "  4       N     A  36.510  16.731 -5.124               5 -0.055  0.477  1.234   \n",
       "  5      CA     A  37.437  16.287 -4.089               6  0.927 -0.444  1.035   \n",
       "\n",
       "     bond_longth  bond_angle   torsion  \n",
       "A 1          NaN         NaN       NaN  \n",
       "  2     1.497518         NaN       NaN  \n",
       "  3     1.530164    2.000627       NaN  \n",
       "  4     1.324126    2.036520 -2.881597  \n",
       "  5     1.458660    2.123758 -3.110461  "
      ]
     },
     "execution_count": 18,
     "metadata": {},
     "output_type": "execute_result"
    }
   ],
   "source": [
    "final_df.head()"
   ]
  },
  {
   "cell_type": "markdown",
   "metadata": {},
   "source": [
    "### 回推和產生答案Dataframe"
   ]
  },
  {
   "cell_type": "code",
   "execution_count": 19,
   "metadata": {
    "scrolled": true
   },
   "outputs": [
    {
     "name": "stderr",
     "output_type": "stream",
     "text": [
      "C:\\Users\\z9875\\Anaconda3\\lib\\site-packages\\ipykernel_launcher.py:2: SettingWithCopyWarning: \n",
      "A value is trying to be set on a copy of a slice from a DataFrame.\n",
      "Try using .loc[row_indexer,col_indexer] = value instead\n",
      "\n",
      "See the caveats in the documentation: http://pandas.pydata.org/pandas-docs/stable/indexing.html#indexing-view-versus-copy\n",
      "  \n",
      "C:\\Users\\z9875\\Anaconda3\\lib\\site-packages\\ipykernel_launcher.py:14: SettingWithCopyWarning: \n",
      "A value is trying to be set on a copy of a slice from a DataFrame.\n",
      "Try using .loc[row_indexer,col_indexer] = value instead\n",
      "\n",
      "See the caveats in the documentation: http://pandas.pydata.org/pandas-docs/stable/indexing.html#indexing-view-versus-copy\n",
      "  \n"
     ]
    }
   ],
   "source": [
    "ans_dir = {}\n",
    "for i in chain_index:\n",
    "    pushback(df_dir[i]) \n",
    "    ans_dir[i] = df_dir[i].loc[:, (\"backbone_index\",\"element\", \"X\", \"Y\", \"Z\", \"AnsX\", \"AnsY\", \"AnsZ\", \"error\")]\n",
    "#新增一欄ans，並擷取以上資料    \n",
    "ans = pd.concat(ans_dir)\n",
    "#ans.loc[:, (\"AnsX\", \"AnsY\", \"AnsZ\")] = ans.loc[:, (\"AnsX\", \"AnsY\", \"AnsZ\")].round(decimals=3)\n",
    "#此行是取至小數點後三位"
   ]
  },
  {
   "cell_type": "code",
   "execution_count": 20,
   "metadata": {
    "scrolled": true
   },
   "outputs": [
    {
     "data": {
      "text/html": [
       "<div>\n",
       "<style scoped>\n",
       "    .dataframe tbody tr th:only-of-type {\n",
       "        vertical-align: middle;\n",
       "    }\n",
       "\n",
       "    .dataframe tbody tr th {\n",
       "        vertical-align: top;\n",
       "    }\n",
       "\n",
       "    .dataframe thead th {\n",
       "        text-align: right;\n",
       "    }\n",
       "</style>\n",
       "<table border=\"1\" class=\"dataframe\">\n",
       "  <thead>\n",
       "    <tr style=\"text-align: right;\">\n",
       "      <th></th>\n",
       "      <th></th>\n",
       "      <th>backbone_index</th>\n",
       "      <th>element</th>\n",
       "      <th>X</th>\n",
       "      <th>Y</th>\n",
       "      <th>Z</th>\n",
       "      <th>AnsX</th>\n",
       "      <th>AnsY</th>\n",
       "      <th>AnsZ</th>\n",
       "      <th>error</th>\n",
       "    </tr>\n",
       "  </thead>\n",
       "  <tbody>\n",
       "    <tr>\n",
       "      <th rowspan=\"5\" valign=\"top\">A</th>\n",
       "      <th>1</th>\n",
       "      <td>0</td>\n",
       "      <td>N</td>\n",
       "      <td>35.811</td>\n",
       "      <td>16.487</td>\n",
       "      <td>-8.781</td>\n",
       "      <td>35.811000</td>\n",
       "      <td>16.487000</td>\n",
       "      <td>-8.781000</td>\n",
       "      <td>0.000000</td>\n",
       "    </tr>\n",
       "    <tr>\n",
       "      <th>2</th>\n",
       "      <td>1</td>\n",
       "      <td>CA</td>\n",
       "      <td>35.511</td>\n",
       "      <td>16.768</td>\n",
       "      <td>-7.341</td>\n",
       "      <td>35.511000</td>\n",
       "      <td>16.768000</td>\n",
       "      <td>-7.341000</td>\n",
       "      <td>0.000000</td>\n",
       "    </tr>\n",
       "    <tr>\n",
       "      <th>3</th>\n",
       "      <td>2</td>\n",
       "      <td>C</td>\n",
       "      <td>36.565</td>\n",
       "      <td>16.254</td>\n",
       "      <td>-6.358</td>\n",
       "      <td>36.565000</td>\n",
       "      <td>16.254000</td>\n",
       "      <td>-6.358000</td>\n",
       "      <td>0.000000</td>\n",
       "    </tr>\n",
       "    <tr>\n",
       "      <th>4</th>\n",
       "      <td>5</td>\n",
       "      <td>N</td>\n",
       "      <td>36.510</td>\n",
       "      <td>16.731</td>\n",
       "      <td>-5.124</td>\n",
       "      <td>36.472412</td>\n",
       "      <td>16.757160</td>\n",
       "      <td>-5.136703</td>\n",
       "      <td>0.047524</td>\n",
       "    </tr>\n",
       "    <tr>\n",
       "      <th>5</th>\n",
       "      <td>6</td>\n",
       "      <td>CA</td>\n",
       "      <td>37.437</td>\n",
       "      <td>16.287</td>\n",
       "      <td>-4.089</td>\n",
       "      <td>37.489526</td>\n",
       "      <td>16.211013</td>\n",
       "      <td>-4.176460</td>\n",
       "      <td>0.127210</td>\n",
       "    </tr>\n",
       "  </tbody>\n",
       "</table>\n",
       "</div>"
      ],
      "text/plain": [
       "     backbone_index element       X       Y      Z       AnsX       AnsY  \\\n",
       "A 1               0       N  35.811  16.487 -8.781  35.811000  16.487000   \n",
       "  2               1      CA  35.511  16.768 -7.341  35.511000  16.768000   \n",
       "  3               2       C  36.565  16.254 -6.358  36.565000  16.254000   \n",
       "  4               5       N  36.510  16.731 -5.124  36.472412  16.757160   \n",
       "  5               6      CA  37.437  16.287 -4.089  37.489526  16.211013   \n",
       "\n",
       "         AnsZ     error  \n",
       "A 1 -8.781000  0.000000  \n",
       "  2 -7.341000  0.000000  \n",
       "  3 -6.358000  0.000000  \n",
       "  4 -5.136703  0.047524  \n",
       "  5 -4.176460  0.127210  "
      ]
     },
     "execution_count": 20,
     "metadata": {},
     "output_type": "execute_result"
    }
   ],
   "source": [
    "ans.head()"
   ]
  },
  {
   "cell_type": "code",
   "execution_count": 21,
   "metadata": {
    "scrolled": false
   },
   "outputs": [
    {
     "data": {
      "text/html": [
       "<div>\n",
       "<style scoped>\n",
       "    .dataframe tbody tr th:only-of-type {\n",
       "        vertical-align: middle;\n",
       "    }\n",
       "\n",
       "    .dataframe tbody tr th {\n",
       "        vertical-align: top;\n",
       "    }\n",
       "\n",
       "    .dataframe thead th {\n",
       "        text-align: right;\n",
       "    }\n",
       "</style>\n",
       "<table border=\"1\" class=\"dataframe\">\n",
       "  <thead>\n",
       "    <tr style=\"text-align: right;\">\n",
       "      <th></th>\n",
       "      <th></th>\n",
       "      <th>element</th>\n",
       "      <th>chain</th>\n",
       "      <th>X</th>\n",
       "      <th>Y</th>\n",
       "      <th>Z</th>\n",
       "      <th>backbone_index</th>\n",
       "      <th>VX</th>\n",
       "      <th>VY</th>\n",
       "      <th>VZ</th>\n",
       "      <th>bond_longth</th>\n",
       "      <th>bond_angle</th>\n",
       "      <th>torsion</th>\n",
       "    </tr>\n",
       "  </thead>\n",
       "  <tbody>\n",
       "    <tr>\n",
       "      <th rowspan=\"5\" valign=\"top\">A</th>\n",
       "      <th>1</th>\n",
       "      <td>N</td>\n",
       "      <td>A</td>\n",
       "      <td>35.811</td>\n",
       "      <td>16.487</td>\n",
       "      <td>-8.781</td>\n",
       "      <td>0</td>\n",
       "      <td>NaN</td>\n",
       "      <td>NaN</td>\n",
       "      <td>NaN</td>\n",
       "      <td>NaN</td>\n",
       "      <td>NaN</td>\n",
       "      <td>NaN</td>\n",
       "    </tr>\n",
       "    <tr>\n",
       "      <th>2</th>\n",
       "      <td>CA</td>\n",
       "      <td>A</td>\n",
       "      <td>35.511</td>\n",
       "      <td>16.768</td>\n",
       "      <td>-7.341</td>\n",
       "      <td>1</td>\n",
       "      <td>-0.300</td>\n",
       "      <td>0.281</td>\n",
       "      <td>1.440</td>\n",
       "      <td>1.497518</td>\n",
       "      <td>NaN</td>\n",
       "      <td>NaN</td>\n",
       "    </tr>\n",
       "    <tr>\n",
       "      <th>3</th>\n",
       "      <td>C</td>\n",
       "      <td>A</td>\n",
       "      <td>36.565</td>\n",
       "      <td>16.254</td>\n",
       "      <td>-6.358</td>\n",
       "      <td>2</td>\n",
       "      <td>1.054</td>\n",
       "      <td>-0.514</td>\n",
       "      <td>0.983</td>\n",
       "      <td>1.530164</td>\n",
       "      <td>2.000627</td>\n",
       "      <td>NaN</td>\n",
       "    </tr>\n",
       "    <tr>\n",
       "      <th>4</th>\n",
       "      <td>N</td>\n",
       "      <td>A</td>\n",
       "      <td>36.510</td>\n",
       "      <td>16.731</td>\n",
       "      <td>-5.124</td>\n",
       "      <td>5</td>\n",
       "      <td>-0.055</td>\n",
       "      <td>0.477</td>\n",
       "      <td>1.234</td>\n",
       "      <td>1.324126</td>\n",
       "      <td>2.036520</td>\n",
       "      <td>-2.881597</td>\n",
       "    </tr>\n",
       "    <tr>\n",
       "      <th>5</th>\n",
       "      <td>CA</td>\n",
       "      <td>A</td>\n",
       "      <td>37.437</td>\n",
       "      <td>16.287</td>\n",
       "      <td>-4.089</td>\n",
       "      <td>6</td>\n",
       "      <td>0.927</td>\n",
       "      <td>-0.444</td>\n",
       "      <td>1.035</td>\n",
       "      <td>1.458660</td>\n",
       "      <td>2.123758</td>\n",
       "      <td>-3.110461</td>\n",
       "    </tr>\n",
       "  </tbody>\n",
       "</table>\n",
       "</div>"
      ],
      "text/plain": [
       "    element chain       X       Y      Z  backbone_index     VX     VY     VZ  \\\n",
       "A 1       N     A  35.811  16.487 -8.781               0    NaN    NaN    NaN   \n",
       "  2      CA     A  35.511  16.768 -7.341               1 -0.300  0.281  1.440   \n",
       "  3       C     A  36.565  16.254 -6.358               2  1.054 -0.514  0.983   \n",
       "  4       N     A  36.510  16.731 -5.124               5 -0.055  0.477  1.234   \n",
       "  5      CA     A  37.437  16.287 -4.089               6  0.927 -0.444  1.035   \n",
       "\n",
       "     bond_longth  bond_angle   torsion  \n",
       "A 1          NaN         NaN       NaN  \n",
       "  2     1.497518         NaN       NaN  \n",
       "  3     1.530164    2.000627       NaN  \n",
       "  4     1.324126    2.036520 -2.881597  \n",
       "  5     1.458660    2.123758 -3.110461  "
      ]
     },
     "execution_count": 21,
     "metadata": {},
     "output_type": "execute_result"
    }
   ],
   "source": [
    "final_df.head()"
   ]
  },
  {
   "cell_type": "markdown",
   "metadata": {},
   "source": [
    "## 以下是誤差的數據分析"
   ]
  },
  {
   "cell_type": "markdown",
   "metadata": {},
   "source": [
    "一些基本數據"
   ]
  },
  {
   "cell_type": "code",
   "execution_count": 22,
   "metadata": {},
   "outputs": [
    {
     "name": "stdout",
     "output_type": "stream",
     "text": [
      "總誤差:228.3493999311472\n",
      "平均誤差:0.17994436558798044\n",
      "標準差:0.10951225955314463\n"
     ]
    }
   ],
   "source": [
    "error = sum(ans.error)\n",
    "print(f\"總誤差:{error}\")\n",
    "\n",
    "\n",
    "average_error = error/len(ans)\n",
    "print(f\"平均誤差:{average_error}\")\n",
    "\n",
    "variance = 0.0\n",
    "for e in ans.error.values:\n",
    "    variance += ((e - average_error)**2)/len(ans)\n",
    "\n",
    "sd = np.sqrt(variance)\n",
    "print(f\"標準差:{sd}\")"
   ]
  },
  {
   "cell_type": "markdown",
   "metadata": {},
   "source": [
    "以橘色標示大於某數值的誤差"
   ]
  },
  {
   "cell_type": "code",
   "execution_count": 23,
   "metadata": {},
   "outputs": [],
   "source": [
    "def chart(value_mark_orange):\n",
    "    x = np.linspace(1, len(ans), len(ans))\n",
    "    y = ans.error.values\n",
    "    \n",
    "    x2 = x[y>value_mark_orange]\n",
    "    y2 = y[y>value_mark_orange]\n",
    "    \n",
    "    plt.scatter(x, y)\n",
    "    plt.scatter(x2, y2)\n",
    "    \n",
    "    plt.xlabel(\"Atom number\")\n",
    "    plt.ylabel(\"error (Å)\")\n",
    "    plt.title(\"Unsorted values\")"
   ]
  },
  {
   "cell_type": "markdown",
   "metadata": {},
   "source": [
    "### 可用拉桿顯示誤差大小"
   ]
  },
  {
   "cell_type": "code",
   "execution_count": 24,
   "metadata": {
    "scrolled": false
   },
   "outputs": [
    {
     "data": {
      "application/vnd.jupyter.widget-view+json": {
       "model_id": "8d373adcf8ba4bfda0fe927b071b74b4",
       "version_major": 2,
       "version_minor": 0
      },
      "text/plain": [
       "interactive(children=(FloatSlider(value=0.35, description='value_mark_orange', max=0.7), Output()), _dom_class…"
      ]
     },
     "metadata": {},
     "output_type": "display_data"
    },
    {
     "data": {
      "text/plain": [
       "<function __main__.chart(value_mark_orange)>"
      ]
     },
     "execution_count": 24,
     "metadata": {},
     "output_type": "execute_result"
    }
   ],
   "source": [
    "interact(chart, value_mark_orange=(0.0, 0.7))"
   ]
  },
  {
   "cell_type": "markdown",
   "metadata": {},
   "source": [
    "此為平均值以上之誤差"
   ]
  },
  {
   "cell_type": "code",
   "execution_count": 25,
   "metadata": {
    "scrolled": true
   },
   "outputs": [
    {
     "data": {
      "image/png": "[encoded data removed]",
      "text/plain": [
       "<Figure size 432x288 with 1 Axes>"
      ]
     },
     "metadata": {
      "needs_background": "light"
     },
     "output_type": "display_data"
    }
   ],
   "source": [
    "chart(average_error)"
   ]
  },
  {
   "cell_type": "markdown",
   "metadata": {},
   "source": [
    "此為大於平均兩個標準差之誤差點"
   ]
  },
  {
   "cell_type": "code",
   "execution_count": 26,
   "metadata": {
    "scrolled": false
   },
   "outputs": [
    {
     "data": {
      "image/png": "[encoded data removed]",
      "text/plain": [
       "<Figure size 432x288 with 1 Axes>"
      ]
     },
     "metadata": {
      "needs_background": "light"
     },
     "output_type": "display_data"
    }
   ],
   "source": [
    "chart(average_error+2*sd)"
   ]
  },
  {
   "cell_type": "markdown",
   "metadata": {},
   "source": [
    "找出上面是哪些值"
   ]
  },
  {
   "cell_type": "code",
   "execution_count": 28,
   "metadata": {
    "scrolled": true
   },
   "outputs": [],
   "source": [
    "error2sd = ans.error[ans.error.values>average_error+2*sd]"
   ]
  },
  {
   "cell_type": "code",
   "execution_count": 29,
   "metadata": {
    "scrolled": true
   },
   "outputs": [
    {
     "data": {
      "text/plain": [
       "96      0.411\n",
       "129     0.471\n",
       "150     0.409\n",
       "168     0.481\n",
       "228     0.485\n",
       "237     0.428\n",
       "240     0.480\n",
       "291     0.503\n",
       "303     0.429\n",
       "306     0.467\n",
       "339     0.463\n",
       "348     0.463\n",
       "351     0.458\n",
       "378     0.448\n",
       "411     0.454\n",
       "435     0.465\n",
       "438     0.425\n",
       "444     0.417\n",
       "504     0.459\n",
       "510     0.429\n",
       "552     0.403\n",
       "579     0.413\n",
       "582     0.421\n",
       "594     0.423\n",
       "675     0.439\n",
       "732     0.418\n",
       "771     0.516\n",
       "867     0.445\n",
       "876     0.483\n",
       "918     0.429\n",
       "927     0.523\n",
       "954     0.403\n",
       "963     0.473\n",
       "966     0.401\n",
       "975     0.441\n",
       "990     0.505\n",
       "1080    0.432\n",
       "1089    0.449\n",
       "1125    0.495\n",
       "1173    0.474\n",
       "1191    0.458\n",
       "1194    0.464\n",
       "1212    0.417\n",
       "1227    0.407\n",
       "1233    0.469\n",
       "1239    0.452\n",
       "Name: error, dtype: float64"
      ]
     },
     "execution_count": 29,
     "metadata": {},
     "output_type": "execute_result"
    },
    {
     "data": {
      "image/png": "[encoded data removed]",
      "text/plain": [
       "<Figure size 432x288 with 1 Axes>"
      ]
     },
     "metadata": {
      "needs_background": "light"
     },
     "output_type": "display_data"
    }
   ],
   "source": [
    "x = np.linspace(1, len(ans), len(ans))\n",
    "y = ans.error.values\n",
    "\n",
    "x2sd = x[y>average_error+2*sd]\n",
    "y2sd = y[y>average_error+2*sd]\n",
    "\n",
    "plt.scatter(x2sd, y2sd)\n",
    "    \n",
    "plt.xlabel(\"Atom number\")\n",
    "plt.ylabel(\"error (Å)\")\n",
    "plt.title(\"Unsorted values\")\n",
    "\n",
    "dir_error ={}\n",
    "for i in range(1, len(x2sd)):\n",
    "    #print(f\"編號{int(x2sd[i])}之值為{y2sd[i]}\")\n",
    "    dir_error[int(x2sd[i])] = y2sd[i].round(decimals=3)\n",
    "\n",
    "pd.Series(dir_error,name=\"error\")"
   ]
  },
  {
   "cell_type": "markdown",
   "metadata": {},
   "source": [
    "由以上結果可以發現誤差非常的平均，因此我推測應該是程式設計仍有瑕疵"
   ]
  },
  {
   "cell_type": "code",
   "execution_count": 30,
   "metadata": {},
   "outputs": [
    {
     "data": {
      "text/plain": [
       "Text(0.5, 1.0, 'sorted values')"
      ]
     },
     "execution_count": 30,
     "metadata": {},
     "output_type": "execute_result"
    },
    {
     "data": {
      "image/png": "[encoded data removed]",
      "text/plain": [
       "<Figure size 432x288 with 1 Axes>"
      ]
     },
     "metadata": {
      "needs_background": "light"
     },
     "output_type": "display_data"
    }
   ],
   "source": [
    "x = np.linspace(1, len(ans), len(ans))\n",
    "y = ans.error.sort_values().values\n",
    "\n",
    "x2 = x[y>average_error + 2*sd]\n",
    "y2 = y[y>average_error + 2*sd]\n",
    "\n",
    "plt.scatter(x, y)\n",
    "plt.scatter(x2, y2)\n",
    "\n",
    "plt.xlabel(\"Atom number\")\n",
    "plt.ylabel(\"error (Å)\")\n",
    "plt.title(\"sorted values\")"
   ]
  },
  {
   "cell_type": "code",
   "execution_count": 31,
   "metadata": {},
   "outputs": [
    {
     "data": {
      "text/plain": [
       "0.44935640252297954"
      ]
     },
     "execution_count": 31,
     "metadata": {},
     "output_type": "execute_result"
    }
   ],
   "source": [
    "sum(y[y>average_error + 2*sd])/len(y[y>average_error + 2*sd])"
   ]
  }
 ],
 "metadata": {
  "kernelspec": {
   "display_name": "Python 3",
   "language": "python",
   "name": "python3"
  },
  "language_info": {
   "codemirror_mode": {
    "name": "ipython",
    "version": 3
   },
   "file_extension": ".py",
   "mimetype": "text/x-python",
   "name": "python",
   "nbconvert_exporter": "python",
   "pygments_lexer": "ipython3",
   "version": "3.6.6"
  }
 },
 "nbformat": 4,
 "nbformat_minor": 2
}
